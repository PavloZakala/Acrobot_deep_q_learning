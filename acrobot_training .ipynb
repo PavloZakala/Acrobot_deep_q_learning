{
 "cells": [
  {
   "cell_type": "code",
   "execution_count": 2,
   "id": "c3a82d77",
   "metadata": {},
   "outputs": [],
   "source": [
    "import gym \n",
    "import torch\n",
    "import numpy as np\n",
    "\n",
    "device = torch.device(\"cuda\" if torch.cuda.is_available() else \"cpu\")"
   ]
  },
  {
   "cell_type": "markdown",
   "id": "a1a08e75",
   "metadata": {},
   "source": [
    "## Environment"
   ]
  },
  {
   "cell_type": "code",
   "execution_count": 3,
   "id": "823de019",
   "metadata": {},
   "outputs": [
    {
     "data": {
      "text/plain": [
       "array([ 0.9994587 ,  0.03289993,  0.9963384 ,  0.08549695, -0.01116561,\n",
       "       -0.09660595], dtype=float32)"
      ]
     },
     "execution_count": 3,
     "metadata": {},
     "output_type": "execute_result"
    }
   ],
   "source": [
    "import IPython\n",
    "\n",
    "env = gym.make('Acrobot-v1')\n",
    "env.reset()\n",
    "\n",
    "#[cos(theta1) sin(theta1) cos(theta2) sin(theta2) thetaDot1 thetaDot2]\n",
    "observation_space = env.observation_space\n",
    "print(observation_space)\n",
    "\n",
    "#The action is either applying +1, 0 or -1 torque on the joint between the two pendulum links.\n",
    "action_space = env.action_space\n",
    "print(action_space)"
   ]
  },
  {
   "cell_type": "code",
   "execution_count": 4,
   "id": "8a2421bb",
   "metadata": {
    "scrolled": true
   },
   "outputs": [],
   "source": [
    "image = env.render(mode=\"rgb_array\")\n",
    "env.close()"
   ]
  },
  {
   "cell_type": "code",
   "execution_count": 6,
   "id": "7a36f2b9",
   "metadata": {},
   "outputs": [
    {
     "data": {
      "image/png": "[encoded data removed]",
      "text/plain": [
       "<Figure size 576x576 with 1 Axes>"
      ]
     },
     "metadata": {
      "needs_background": "light"
     },
     "output_type": "display_data"
    }
   ],
   "source": [
    "from matplotlib import pyplot as plt\n",
    "\n",
    "plt.figure(figsize = (8, 8))\n",
    "plt.axis('off')\n",
    "plt.imshow(image)\n",
    "plt.show()"
   ]
  },
  {
   "cell_type": "markdown",
   "id": "a04c81ab",
   "metadata": {},
   "source": [
    "## Model"
   ]
  },
  {
   "cell_type": "code",
   "execution_count": 9,
   "id": "3e2d3ad2",
   "metadata": {},
   "outputs": [],
   "source": [
    "import random\n",
    "import numpy as np\n",
    "\n",
    "import torch\n",
    "from torch import nn\n",
    "from tools import ReplayMemory\n",
    "\n",
    "torch.manual_seed(0)\n",
    "np.random.seed(0)\n",
    "\n",
    "device = torch.device(\"cuda\" if torch.cuda.is_available() else \"cpu\")"
   ]
  },
  {
   "cell_type": "code",
   "execution_count": 22,
   "id": "f1b70823",
   "metadata": {},
   "outputs": [],
   "source": [
    "class DQN(nn.Module):\n",
    "\n",
    "    def __init__(self, state_space_dim, action_space_dim):\n",
    "        super().__init__()\n",
    "\n",
    "        self.model = nn.Sequential(\n",
    "            nn.Linear(state_space_dim, 64),\n",
    "            nn.ReLU(),\n",
    "            nn.Linear(64, 64 * 2),\n",
    "            nn.ReLU(),\n",
    "            nn.Linear(64 * 2, action_space_dim)\n",
    "        )\n",
    "\n",
    "    def forward(self, x):\n",
    "        x = x.to(device)\n",
    "        return self.model(x)"
   ]
  },
  {
   "cell_type": "code",
   "execution_count": 23,
   "id": "fcbffdb8",
   "metadata": {},
   "outputs": [],
   "source": [
    "class Agent:\n",
    "\n",
    "    def __init__(self, env):\n",
    "        self.env = env\n",
    "        # Init models\n",
    "        self.replay_mem = ReplayMemory(MEMORY)\n",
    "\n",
    "        state_space_dim = env.observation_space.shape[0]\n",
    "        action_space_dim = env.action_space.n\n",
    "\n",
    "        # Initialize models\n",
    "        self.main_net = DQN(state_space_dim, action_space_dim).to(device)\n",
    "        self.target_net = DQN(state_space_dim, action_space_dim).to(device)\n",
    "        self.target_net.load_state_dict(self.main_net.state_dict())\n",
    "\n",
    "        # Initialize the optimizer\n",
    "        self.optimizer = torch.optim.Adam(self.main_net.parameters(), lr=LR)\n",
    "\n",
    "        # Initialize the loss function\n",
    "        self.loss_fn = nn.SmoothL1Loss()\n",
    "\n",
    "    def update_target_network(self):\n",
    "        print('Updating target network...')\n",
    "        self.target_net.load_state_dict(self.main_net.state_dict())\n",
    "\n",
    "    def save_current_state(self, path):\n",
    "        torch.save(self.main_net.state_dict(), path)\n",
    "\n",
    "    def load_current_state(self, path):\n",
    "        self.main_net.load_state_dict(torch.load(path))\n",
    "        self.target_net.load_state_dict(torch.load(path))\n",
    "\n"
   ]
  },
  {
   "cell_type": "code",
   "execution_count": 24,
   "id": "7a08028a",
   "metadata": {},
   "outputs": [],
   "source": [
    "def get_best_action(self, state, eps):\n",
    "\n",
    "        with torch.no_grad():\n",
    "            self.main_net.eval()\n",
    "            state = torch.tensor(state, dtype=torch.float32)  # Convert the state to tensor\n",
    "            net_out = self.main_net(state)\n",
    "\n",
    "        # Get the best action (argmax of the network output)\n",
    "        best_action = int(net_out.argmax())\n",
    "        action_space_dim = net_out.shape[-1]\n",
    "\n",
    "        # Select a non optimal action with probability epsilon, otherwise choose the best action\n",
    "        if random.random() < eps:\n",
    "            non_optimal_actions = [a for a in range(action_space_dim) if a != best_action]\n",
    "            action = random.choice(non_optimal_actions)\n",
    "        else:\n",
    "            action = best_action\n",
    "\n",
    "        return action, net_out.cpu().numpy()\n",
    "\n",
    "setattr(Agent, 'get_best_action', get_best_action)"
   ]
  },
  {
   "cell_type": "code",
   "execution_count": 25,
   "id": "f782a433",
   "metadata": {},
   "outputs": [],
   "source": [
    "def get_action(self, state, eps):\n",
    "\n",
    "    if eps == 0:\n",
    "        return self.get_best_action(state, 0)\n",
    "\n",
    "    with torch.no_grad():\n",
    "        self.main_net.eval()\n",
    "        state = torch.tensor(state, dtype=torch.float32)\n",
    "        net_out = self.main_net(state)\n",
    "\n",
    "    eps = max(eps, 1e-8)\n",
    "    softmax_out = nn.functional.softmax(net_out / eps, dim=0).cpu().numpy()\n",
    "\n",
    "    all_possible_actions = np.arange(0, softmax_out.shape[-1])\n",
    "    action = np.random.choice(all_possible_actions, p=softmax_out)\n",
    "\n",
    "    return action, net_out.cpu().numpy()\n",
    "\n",
    "setattr(Agent, 'get_action', get_action)"
   ]
  },
  {
   "cell_type": "code",
   "execution_count": 26,
   "id": "127c5ddc",
   "metadata": {},
   "outputs": [],
   "source": [
    "def update_step(self):\n",
    "    global GAMMA, BATCH_SIZE\n",
    "\n",
    "    # Sample the data from the replay memory\n",
    "    batch = self.replay_mem.sample(BATCH_SIZE)\n",
    "    BATCH_SIZE = len(batch)\n",
    "\n",
    "    # Create tensors for each element of the batch\n",
    "    states = torch.tensor(np.array([s[0] for s in batch]), dtype=torch.float32, device=device)\n",
    "    actions = torch.tensor(np.array([s[1] for s in batch]), dtype=torch.int64, device=device)\n",
    "    rewards = torch.tensor(np.array([s[3] for s in batch]), dtype=torch.float32, device=device)\n",
    "\n",
    "    # Compute a mask of non-final states (all the elements where the next state is not None)\n",
    "    non_final_next_states = torch.tensor(np.array([s[2] for s in batch if s[2] is not None]), dtype=torch.float32, device=device)\n",
    "    non_final_mask = torch.tensor(np.array([s[2] is not None for s in batch]), dtype=torch.bool)\n",
    "\n",
    "    # Compute all the Q values (forward pass)\n",
    "    self.main_net.train()\n",
    "    q_values = self.main_net(states)\n",
    "    # Select the proper Q value for the corresponding action taken Q(s_t, a)\n",
    "    state_action_values = q_values.gather(1, actions.unsqueeze(1).cuda())\n",
    "\n",
    "    # Compute the value function of the next states using the target network V(s_{t+1}) = max_a( Q_target(s_{t+1}, a)) )\n",
    "    with torch.no_grad():\n",
    "        self.target_net.eval()\n",
    "        q_values_target = self.target_net(non_final_next_states)\n",
    "    next_state_max_q_values = torch.zeros(BATCH_SIZE, device=device)\n",
    "    next_state_max_q_values[non_final_mask] = q_values_target.max(dim=1)[0].detach()\n",
    "\n",
    "    # Compute the expected Q values\n",
    "    expected_state_action_values = rewards + (next_state_max_q_values * GAMMA)\n",
    "    expected_state_action_values = expected_state_action_values.unsqueeze(1)  # Set the required tensor shape\n",
    "\n",
    "    # Compute the Huber loss\n",
    "    loss = self.loss_fn(state_action_values, expected_state_action_values)\n",
    "\n",
    "    # Optimize the model\n",
    "    self.optimizer.zero_grad()\n",
    "    loss.backward()\n",
    "    # Apply gradient clipping (clip all the gradients greater than 2 for training stability)\n",
    "    nn.utils.clip_grad_norm_(self.main_net.parameters(), 2)\n",
    "    self.optimizer.step()\n",
    "\n",
    "setattr(Agent, 'update_step', update_step)"
   ]
  },
  {
   "cell_type": "code",
   "execution_count": 27,
   "id": "34fb6f46",
   "metadata": {},
   "outputs": [],
   "source": [
    "def step(self, state, eps):\n",
    "    # Choose the action\n",
    "    action, q_values = self.get_action(state, eps)\n",
    "\n",
    "    # Apply the action and get the next state, reward and done\n",
    "    next_state, reward, done, _ = self.env.step(action)\n",
    "\n",
    "    # Apply penalty for bad state\n",
    "    if done:  # if the pole has fallen down\n",
    "        # reward += bad_state_penalty\n",
    "        next_state = None\n",
    "\n",
    "    # Update the replay memory\n",
    "    self.replay_mem.push(state, action, next_state, reward)\n",
    "\n",
    "    # we enable the training only if we have enough samples in the replay memory,\n",
    "    # otherwise the training will use the same samples too often\n",
    "    if len(self.replay_mem) > MIN_SAMPLES_FOR_TRAINING:\n",
    "        self.update_step()\n",
    "\n",
    "    return next_state, reward, done\n",
    "\n",
    "setattr(Agent, 'step', step)"
   ]
  },
  {
   "cell_type": "markdown",
   "id": "d6e4edd6",
   "metadata": {},
   "source": [
    "## Training"
   ]
  },
  {
   "cell_type": "code",
   "execution_count": 16,
   "id": "d16e941f",
   "metadata": {},
   "outputs": [],
   "source": [
    "# CONFIG\n",
    "\n",
    "GAMMA = 0.99  # gamma parameter for the long term reward\n",
    "MEMORY = 10000  # Replay memory capacity\n",
    "LR = 1e-3 # learning rate for Adam\n",
    "BATCH_SIZE = 256 \n",
    "\n",
    "NET_UPDATE_SPET = 10  # Number of episodes to wait before updating the target network\n",
    "NET_SAVE_STEP = 100\n",
    "MIN_SAMPLES_FOR_TRAINING = 1000\n",
    "\n",
    "INIT_EXP_DELAY_VALUE = 5\n",
    "NUM_EPISODES = 800\n",
    "\n",
    "# Exponential decay\n",
    "exp_decay = np.exp(-np.log(INIT_EXP_DELAY_VALUE) / NUM_EPISODES * 6)  # We compute the exponential decay in such a way the shape of the exploration profile does not depend on the number of iterations\n",
    "exploration_profile = [INIT_EXP_DELAY_VALUE * (exp_decay ** i) for i in range(NUM_EPISODES)]\n"
   ]
  },
  {
   "cell_type": "code",
   "execution_count": null,
   "id": "2d09a06c",
   "metadata": {},
   "outputs": [],
   "source": [
    "env = gym.make('Acrobot-v1')\n",
    "env.seed(0)  # Set a random seed for the environment (reproducible results)\n",
    "\n",
    "agent = Agent(env)\n",
    "\n",
    "plotting_rewards = []\n",
    "\n",
    "for episode, eps in enumerate(exploration_profile):\n",
    "\n",
    "    state = env.reset()\n",
    "    score = 0\n",
    "    done = False\n",
    "\n",
    "    while not done:\n",
    "\n",
    "        next_state, reward, done = agent.step(state, eps)\n",
    "\n",
    "        score += reward\n",
    "        state = next_state\n",
    "\n",
    "        # env.render()\n",
    "\n",
    "    # Update the target network every target_net_update_steps episodes\n",
    "    if episode % NET_UPDATE_SPET == 0:\n",
    "        agent.update_target_network()\n",
    "\n",
    "    if episode % NET_SAVE_STEP == 0:\n",
    "        agent.save_current_state(f\"model/model_{episode}.pth\")\n",
    "\n",
    "    plotting_rewards.append(score)\n",
    "    print(f\"Episode: {episode + 1}, Score: {score}, Eps: {eps}\")\n",
    "        \n",
    "env.close()"
   ]
  },
  {
   "cell_type": "code",
   "execution_count": null,
   "id": "0d5d54e6",
   "metadata": {},
   "outputs": [],
   "source": [
    "agent.save_current_state(\"model/model.pth\")"
   ]
  },
  {
   "cell_type": "markdown",
   "id": "f13a4628",
   "metadata": {},
   "source": [
    "## Test"
   ]
  },
  {
   "cell_type": "code",
   "execution_count": 28,
   "id": "dbfc3348",
   "metadata": {},
   "outputs": [],
   "source": [
    "agent = Agent(env)\n",
    "agent.load_current_state(\"model/model.pth\")"
   ]
  },
  {
   "cell_type": "code",
   "execution_count": 29,
   "id": "8b5a70d3",
   "metadata": {},
   "outputs": [
    {
     "name": "stdout",
     "output_type": "stream",
     "text": [
      "Mean score: -74.95\n"
     ]
    }
   ],
   "source": [
    "mean_reward = 0\n",
    "\n",
    "TESTS_COUNT = 20\n",
    "for i in range(TESTS_COUNT):\n",
    "    state = env.reset()\n",
    "    score = 0\n",
    "    done = False\n",
    "    \n",
    "    while not done:\n",
    "        next_state, reward, done = agent.step(state, 0)\n",
    "\n",
    "        score += reward\n",
    "        state = next_state\n",
    "    \n",
    "    mean_reward += score\n",
    "    \n",
    "print(f\"Mean score: {mean_reward / TESTS_COUNT}\")"
   ]
  },
  {
   "cell_type": "code",
   "execution_count": 32,
   "id": "948f7013",
   "metadata": {},
   "outputs": [],
   "source": [
    "import time\n",
    "\n",
    "state = env.reset()\n",
    "score = 0\n",
    "done = False\n",
    "\n",
    "while not done:\n",
    "    next_state, reward, done = agent.step(state, 0)\n",
    "\n",
    "    score += reward\n",
    "    state = next_state\n",
    "\n",
    "    env.render()\n",
    "    time.sleep(0.03)"
   ]
  },
  {
   "cell_type": "code",
   "execution_count": 33,
   "id": "17cc5c5b",
   "metadata": {},
   "outputs": [],
   "source": [
    "env.close()"
   ]
  }
 ],
 "metadata": {
  "kernelspec": {
   "display_name": "Python 3 (ipykernel)",
   "language": "python",
   "name": "python3"
  },
  "language_info": {
   "codemirror_mode": {
    "name": "ipython",
    "version": 3
   },
   "file_extension": ".py",
   "mimetype": "text/x-python",
   "name": "python",
   "nbconvert_exporter": "python",
   "pygments_lexer": "ipython3",
   "version": "3.8.12"
  }
 },
 "nbformat": 4,
 "nbformat_minor": 5
}
